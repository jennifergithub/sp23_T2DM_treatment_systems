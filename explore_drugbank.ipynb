{
 "cells": [
  {
   "cell_type": "code",
   "execution_count": 2,
   "metadata": {},
   "outputs": [
    {
     "data": {
      "text/plain": [
       "Index(['Drugbank-ID', 'CAS Number', 'Name', 'Synonyms', 'Drug Type', 'UNII',\n",
       "       'Average Mass', 'Synthesis Reference', 'MSDS', 'State',\n",
       "       ...\n",
       "       'Structure [idcode]', 'SMILES', 'INCHI_IDENTIFIER', 'INCHI_KEY',\n",
       "       'FORMULA', 'JCHEM_PKA', 'JCHEM_PKA_STRONGEST_ACIDIC',\n",
       "       'JCHEM_PKA_STRONGEST_BASIC', 'JCHEM_POLAR_SURFACE_AREA',\n",
       "       'JCHEM_REFRACTIVITY'],\n",
       "      dtype='object', length=116)"
      ]
     },
     "execution_count": 2,
     "metadata": {},
     "output_type": "execute_result"
    }
   ],
   "source": [
    "import pandas as pd\n",
    "df = pd.read_csv(\"drugbank.csv\")\n",
    "df.columns"
   ]
  }
 ],
 "metadata": {
  "kernelspec": {
   "display_name": "Python 3.10.4 64-bit",
   "language": "python",
   "name": "python3"
  },
  "language_info": {
   "codemirror_mode": {
    "name": "ipython",
    "version": 3
   },
   "file_extension": ".py",
   "mimetype": "text/x-python",
   "name": "python",
   "nbconvert_exporter": "python",
   "pygments_lexer": "ipython3",
   "version": "3.10.4"
  },
  "orig_nbformat": 4,
  "vscode": {
   "interpreter": {
    "hash": "aee8b7b246df8f9039afb4144a1f6fd8d2ca17a180786b69acc140d282b71a49"
   }
  }
 },
 "nbformat": 4,
 "nbformat_minor": 2
}
